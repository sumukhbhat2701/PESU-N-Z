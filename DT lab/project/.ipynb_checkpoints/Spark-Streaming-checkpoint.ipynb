{
 "cells": [
  {
   "cell_type": "code",
   "execution_count": 1,
   "id": "fec2cf02",
   "metadata": {},
   "outputs": [
    {
     "data": {
      "text/plain": [
       "['#withyou',\n",
       " '#mivslsg',\n",
       " '#mondaymotivation',\n",
       " '#runway34thisfriday',\n",
       " '#worldmalariaday']"
      ]
     },
     "execution_count": 1,
     "metadata": {},
     "output_type": "execute_result"
    }
   ],
   "source": [
    "# May cause deprecation warnings, safe to ignore, they aren't errors\n",
    "from pyspark import SparkContext\n",
    "from pyspark.streaming import StreamingContext\n",
    "from pyspark.sql import SQLContext\n",
    "from pyspark.sql.functions import desc\n",
    "\n",
    "import json\n",
    " \n",
    "f = open('hashtags.json')\n",
    " \n",
    "hashtags = json.load(f)\n",
    "\n",
    "f.close()\n",
    "\n",
    "hash_values = [\"#\"+i.lower() for i in list(hashtags.values())]\n",
    "hash_values"
   ]
  },
  {
   "cell_type": "code",
   "execution_count": 2,
   "id": "366f3be5",
   "metadata": {},
   "outputs": [
    {
     "name": "stderr",
     "output_type": "stream",
     "text": [
      "22/04/25 22:49:46 WARN Utils: Your hostname, pop-os resolves to a loopback address: 127.0.1.1; using 10.5.25.43 instead (on interface wlo1)\n",
      "22/04/25 22:49:46 WARN Utils: Set SPARK_LOCAL_IP if you need to bind to another address\n",
      "Using Spark's default log4j profile: org/apache/spark/log4j-defaults.properties\n",
      "Setting default log level to \"WARN\".\n",
      "To adjust logging level use sc.setLogLevel(newLevel). For SparkR, use setLogLevel(newLevel).\n",
      "22/04/25 22:49:57 WARN NativeCodeLoader: Unable to load native-hadoop library for your platform... using builtin-java classes where applicable\n",
      "22/04/25 22:49:57 WARN Utils: Service 'SparkUI' could not bind on port 4040. Attempting port 4041.\n"
     ]
    }
   ],
   "source": [
    "sc = SparkContext(\"local[2]\", \"dbt-assignment\")"
   ]
  },
  {
   "cell_type": "code",
   "execution_count": 3,
   "id": "e3c1aa2c",
   "metadata": {},
   "outputs": [
    {
     "name": "stderr",
     "output_type": "stream",
     "text": [
      "/home/sumukhbhat2701/.local/lib/python3.9/site-packages/pyspark/sql/context.py:77: FutureWarning: Deprecated in 3.0.0. Use SparkSession.builder.getOrCreate() instead.\n",
      "  warnings.warn(\n"
     ]
    }
   ],
   "source": [
    "ssc = StreamingContext(sc, 1 )\n",
    "sqlContext = SQLContext(sc)"
   ]
  },
  {
   "cell_type": "code",
   "execution_count": 4,
   "id": "fc103a42",
   "metadata": {},
   "outputs": [],
   "source": [
    "socket_stream = ssc.socketTextStream(\"127.0.0.1\", 8008).window( 10 )\n"
   ]
  },
  {
   "cell_type": "code",
   "execution_count": 5,
   "id": "ea4a3944",
   "metadata": {},
   "outputs": [],
   "source": [
    "lines = socket_stream#.window( 10 )\n"
   ]
  },
  {
   "cell_type": "code",
   "execution_count": 6,
   "id": "9eeeeda6",
   "metadata": {},
   "outputs": [],
   "source": [
    "from collections import namedtuple\n",
    "fields = (\"Hashtag\", \"Count\" )\n",
    "Tweet = namedtuple( 'Tweet', fields )\n"
   ]
  },
  {
   "cell_type": "code",
   "execution_count": 7,
   "id": "d66389da",
   "metadata": {},
   "outputs": [],
   "source": [
    "from pyspark.sql import SparkSession\n",
    "from datetime import datetime\n",
    "\n",
    "\n",
    "spark = SparkSession(sc)\n",
    "def readMyStream(rdd):\n",
    "    if not rdd.isEmpty():\n",
    "        df = rdd.toDF().sort(\"Count\").limit(10).createOrReplaceTempView(\"tweets\")\n",
    "        print(df, datetime.now())\n",
    "        return df\n",
    "        \n",
    "words = lines.flatMap(lambda line: line.split(\" \"))\n",
    "new_words=words.filter( lambda word: word.lower().startswith(\"#\") and word.lower() in hash_values) \n",
    "count = new_words.map( lambda word: ( word.lower(), 1 ) ) \n",
    "reduced = count.reduceByKey( lambda a, b: a + b)\n",
    "tuples = reduced.map( lambda rec: Tweet( rec[0], rec[1] ) )\n",
    "tuples.foreachRDD(lambda rdd: readMyStream(rdd))\n",
    "\n"
   ]
  },
  {
   "cell_type": "code",
   "execution_count": 8,
   "id": "a6fa4b08",
   "metadata": {},
   "outputs": [],
   "source": [
    "import time\n",
    "import pandas"
   ]
  },
  {
   "cell_type": "code",
   "execution_count": 9,
   "id": "99d3485f",
   "metadata": {},
   "outputs": [],
   "source": [
    "from kafka import KafkaProducer\n",
    "from datetime import datetime\n",
    "\n",
    "# Messages will be serialized as JSON \n",
    "def serializer(message):\n",
    "    return json.dumps(message).encode('utf-8')\n",
    "\n",
    "\n",
    "# Kafka Producer\n",
    "producer = KafkaProducer(\n",
    "    bootstrap_servers=['localhost:9092'],\n",
    "    value_serializer=serializer\n",
    ")\n",
    "\n",
    "def send_to_kafka(m):\n",
    "    for i in m:\n",
    "        print(\"producing: \" + i + \" \" + str(m[i]))\n",
    "        producer.send(i.split('#')[1], m[i])"
   ]
  },
  {
   "cell_type": "code",
   "execution_count": 10,
   "id": "08005e40",
   "metadata": {},
   "outputs": [],
   "source": [
    "ssc.start()\n"
   ]
  },
  {
   "cell_type": "code",
   "execution_count": null,
   "id": "a5a9c3ac",
   "metadata": {},
   "outputs": [
    {
     "name": "stderr",
     "output_type": "stream",
     "text": [
      "22/04/25 22:50:00 WARN RandomBlockReplicationPolicy: Expecting 1 replicas with only 0 peer/s.\n",
      "22/04/25 22:50:00 WARN BlockManager: Block input-0-1650907200200 replicated to only 0 peer(s) instead of 1 peers\n",
      "22/04/25 22:50:00 WARN RandomBlockReplicationPolicy: Expecting 1 replicas with only 0 peer/s.\n",
      "22/04/25 22:50:00 WARN BlockManager: Block input-0-1650907200400 replicated to only 0 peer(s) instead of 1 peers\n",
      "22/04/25 22:50:00 WARN RandomBlockReplicationPolicy: Expecting 1 replicas with only 0 peer/s.\n",
      "22/04/25 22:50:00 WARN BlockManager: Block input-0-1650907200600 replicated to only 0 peer(s) instead of 1 peers\n",
      "22/04/25 22:50:01 WARN RandomBlockReplicationPolicy: Expecting 1 replicas with only 0 peer/s.\n",
      "22/04/25 22:50:01 WARN BlockManager: Block input-0-1650907201000 replicated to only 0 peer(s) instead of 1 peers\n",
      "22/04/25 22:50:01 WARN RandomBlockReplicationPolicy: Expecting 1 replicas with only 0 peer/s.\n",
      "22/04/25 22:50:01 WARN BlockManager: Block input-0-1650907201400 replicated to only 0 peer(s) instead of 1 peers\n",
      "22/04/25 22:50:02 WARN RandomBlockReplicationPolicy: Expecting 1 replicas with only 0 peer/s.\n",
      "22/04/25 22:50:02 WARN BlockManager: Block input-0-1650907202600 replicated to only 0 peer(s) instead of 1 peers\n",
      "22/04/25 22:50:03 WARN RandomBlockReplicationPolicy: Expecting 1 replicas with only 0 peer/s.\n",
      "22/04/25 22:50:03 WARN BlockManager: Block input-0-1650907202800 replicated to only 0 peer(s) instead of 1 peers\n",
      "22/04/25 22:50:03 WARN RandomBlockReplicationPolicy: Expecting 1 replicas with only 0 peer/s.\n",
      "22/04/25 22:50:03 WARN BlockManager: Block input-0-1650907203400 replicated to only 0 peer(s) instead of 1 peers\n"
     ]
    },
    {
     "name": "stdout",
     "output_type": "stream",
     "text": [
      "None 2022-04-25 22:50:03.967525\n"
     ]
    },
    {
     "name": "stderr",
     "output_type": "stream",
     "text": [
      "\r",
      "                                                                                \r",
      "22/04/25 22:50:04 WARN RandomBlockReplicationPolicy: Expecting 1 replicas with only 0 peer/s.\n",
      "22/04/25 22:50:04 WARN BlockManager: Block input-0-1650907204200 replicated to only 0 peer(s) instead of 1 peers\n"
     ]
    },
    {
     "name": "stdout",
     "output_type": "stream",
     "text": [
      "None 2022-04-25 22:50:04.340860\n"
     ]
    },
    {
     "name": "stderr",
     "output_type": "stream",
     "text": [
      "22/04/25 22:50:04 WARN RandomBlockReplicationPolicy: Expecting 1 replicas with only 0 peer/s.\n",
      "22/04/25 22:50:04 WARN BlockManager: Block input-0-1650907204600 replicated to only 0 peer(s) instead of 1 peers\n"
     ]
    },
    {
     "name": "stdout",
     "output_type": "stream",
     "text": [
      "None 2022-04-25 22:50:04.853626\n"
     ]
    },
    {
     "name": "stderr",
     "output_type": "stream",
     "text": [
      "22/04/25 22:50:05 WARN RandomBlockReplicationPolicy: Expecting 1 replicas with only 0 peer/s.\n",
      "22/04/25 22:50:05 WARN BlockManager: Block input-0-1650907205000 replicated to only 0 peer(s) instead of 1 peers\n"
     ]
    },
    {
     "name": "stdout",
     "output_type": "stream",
     "text": [
      "None 2022-04-25 22:50:05.354207\n"
     ]
    },
    {
     "name": "stderr",
     "output_type": "stream",
     "text": [
      "22/04/25 22:50:05 WARN RandomBlockReplicationPolicy: Expecting 1 replicas with only 0 peer/s.\n",
      "22/04/25 22:50:05 WARN BlockManager: Block input-0-1650907205400 replicated to only 0 peer(s) instead of 1 peers\n",
      "22/04/25 22:50:05 WARN RandomBlockReplicationPolicy: Expecting 1 replicas with only 0 peer/s.\n",
      "22/04/25 22:50:05 WARN BlockManager: Block input-0-1650907205600 replicated to only 0 peer(s) instead of 1 peers\n"
     ]
    },
    {
     "name": "stdout",
     "output_type": "stream",
     "text": [
      "None 2022-04-25 22:50:05.849841\n"
     ]
    },
    {
     "name": "stderr",
     "output_type": "stream",
     "text": [
      "22/04/25 22:50:06 WARN RandomBlockReplicationPolicy: Expecting 1 replicas with only 0 peer/s.\n",
      "22/04/25 22:50:06 WARN BlockManager: Block input-0-1650907205800 replicated to only 0 peer(s) instead of 1 peers\n",
      "22/04/25 22:50:06 WARN RandomBlockReplicationPolicy: Expecting 1 replicas with only 0 peer/s.\n",
      "22/04/25 22:50:06 WARN BlockManager: Block input-0-1650907206200 replicated to only 0 peer(s) instead of 1 peers\n",
      "22/04/25 22:50:06 WARN RandomBlockReplicationPolicy: Expecting 1 replicas with only 0 peer/s.\n",
      "22/04/25 22:50:06 WARN BlockManager: Block input-0-1650907206600 replicated to only 0 peer(s) instead of 1 peers\n"
     ]
    },
    {
     "name": "stdout",
     "output_type": "stream",
     "text": [
      "None 2022-04-25 22:50:06.742243\n"
     ]
    },
    {
     "name": "stderr",
     "output_type": "stream",
     "text": [
      "22/04/25 22:50:07 WARN RandomBlockReplicationPolicy: Expecting 1 replicas with only 0 peer/s.\n",
      "22/04/25 22:50:07 WARN BlockManager: Block input-0-1650907206800 replicated to only 0 peer(s) instead of 1 peers\n",
      "22/04/25 22:50:07 WARN RandomBlockReplicationPolicy: Expecting 1 replicas with only 0 peer/s.\n",
      "22/04/25 22:50:07 WARN BlockManager: Block input-0-1650907207000 replicated to only 0 peer(s) instead of 1 peers\n",
      "22/04/25 22:50:07 WARN RandomBlockReplicationPolicy: Expecting 1 replicas with only 0 peer/s.\n",
      "22/04/25 22:50:07 WARN BlockManager: Block input-0-1650907207200 replicated to only 0 peer(s) instead of 1 peers\n",
      "22/04/25 22:50:07 WARN RandomBlockReplicationPolicy: Expecting 1 replicas with only 0 peer/s.\n",
      "22/04/25 22:50:07 WARN BlockManager: Block input-0-1650907207400 replicated to only 0 peer(s) instead of 1 peers\n",
      "22/04/25 22:50:07 WARN RandomBlockReplicationPolicy: Expecting 1 replicas with only 0 peer/s.\n",
      "22/04/25 22:50:07 WARN BlockManager: Block input-0-1650907207600 replicated to only 0 peer(s) instead of 1 peers\n",
      "22/04/25 22:50:08 WARN RandomBlockReplicationPolicy: Expecting 1 replicas with only 0 peer/s.\n",
      "22/04/25 22:50:08 WARN BlockManager: Block input-0-1650907207800 replicated to only 0 peer(s) instead of 1 peers\n"
     ]
    },
    {
     "name": "stdout",
     "output_type": "stream",
     "text": [
      "None 2022-04-25 22:50:08.068311\n"
     ]
    },
    {
     "name": "stderr",
     "output_type": "stream",
     "text": [
      "22/04/25 22:50:08 WARN RandomBlockReplicationPolicy: Expecting 1 replicas with only 0 peer/s.\n",
      "22/04/25 22:50:08 WARN BlockManager: Block input-0-1650907208000 replicated to only 0 peer(s) instead of 1 peers\n",
      "22/04/25 22:50:08 WARN RandomBlockReplicationPolicy: Expecting 1 replicas with only 0 peer/s.\n",
      "22/04/25 22:50:08 WARN BlockManager: Block input-0-1650907208400 replicated to only 0 peer(s) instead of 1 peers\n",
      "22/04/25 22:50:08 WARN RandomBlockReplicationPolicy: Expecting 1 replicas with only 0 peer/s.\n",
      "22/04/25 22:50:08 WARN BlockManager: Block input-0-1650907208600 replicated to only 0 peer(s) instead of 1 peers\n",
      "                                                                                \r"
     ]
    },
    {
     "name": "stdout",
     "output_type": "stream",
     "text": [
      "None 2022-04-25 22:50:08.964883\n"
     ]
    },
    {
     "name": "stderr",
     "output_type": "stream",
     "text": [
      "22/04/25 22:50:09 WARN RandomBlockReplicationPolicy: Expecting 1 replicas with only 0 peer/s.\n",
      "22/04/25 22:50:09 WARN BlockManager: Block input-0-1650907209200 replicated to only 0 peer(s) instead of 1 peers\n",
      "22/04/25 22:50:09 WARN RandomBlockReplicationPolicy: Expecting 1 replicas with only 0 peer/s.\n",
      "22/04/25 22:50:09 WARN BlockManager: Block input-0-1650907209400 replicated to only 0 peer(s) instead of 1 peers\n",
      "22/04/25 22:50:09 WARN RandomBlockReplicationPolicy: Expecting 1 replicas with only 0 peer/s.\n",
      "22/04/25 22:50:09 WARN BlockManager: Block input-0-1650907209600 replicated to only 0 peer(s) instead of 1 peers\n",
      "22/04/25 22:50:10 WARN RandomBlockReplicationPolicy: Expecting 1 replicas with only 0 peer/s.\n",
      "22/04/25 22:50:10 WARN BlockManager: Block input-0-1650907209800 replicated to only 0 peer(s) instead of 1 peers\n",
      "22/04/25 22:50:10 WARN RandomBlockReplicationPolicy: Expecting 1 replicas with only 0 peer/s.\n",
      "22/04/25 22:50:10 WARN BlockManager: Block input-0-1650907210000 replicated to only 0 peer(s) instead of 1 peers\n"
     ]
    },
    {
     "name": "stdout",
     "output_type": "stream",
     "text": [
      "None 2022-04-25 22:50:10.109615\n"
     ]
    },
    {
     "name": "stderr",
     "output_type": "stream",
     "text": [
      "22/04/25 22:50:10 WARN RandomBlockReplicationPolicy: Expecting 1 replicas with only 0 peer/s.\n",
      "22/04/25 22:50:10 WARN BlockManager: Block input-0-1650907210200 replicated to only 0 peer(s) instead of 1 peers\n"
     ]
    },
    {
     "name": "stdout",
     "output_type": "stream",
     "text": [
      "producing: #withyou 20\n",
      "producing: #mivslsg 0\n",
      "producing: #mondaymotivation 7\n",
      "producing: #runway34thisfriday 0\n",
      "producing: #worldmalariaday 0\n"
     ]
    },
    {
     "name": "stderr",
     "output_type": "stream",
     "text": [
      "22/04/25 22:50:10 WARN RandomBlockReplicationPolicy: Expecting 1 replicas with only 0 peer/s.\n",
      "22/04/25 22:50:10 WARN BlockManager: Block input-0-1650907210600 replicated to only 0 peer(s) instead of 1 peers\n",
      "22/04/25 22:50:11 WARN RandomBlockReplicationPolicy: Expecting 1 replicas with only 0 peer/s.\n",
      "22/04/25 22:50:11 WARN BlockManager: Block input-0-1650907210800 replicated to only 0 peer(s) instead of 1 peers\n",
      "22/04/25 22:50:11 WARN RandomBlockReplicationPolicy: Expecting 1 replicas with only 0 peer/s.\n",
      "22/04/25 22:50:11 WARN BlockManager: Block input-0-1650907211200 replicated to only 0 peer(s) instead of 1 peers\n"
     ]
    },
    {
     "name": "stdout",
     "output_type": "stream",
     "text": [
      "None 2022-04-25 22:50:11.393407\n"
     ]
    },
    {
     "name": "stderr",
     "output_type": "stream",
     "text": [
      "22/04/25 22:50:11 WARN RandomBlockReplicationPolicy: Expecting 1 replicas with only 0 peer/s.\n",
      "22/04/25 22:50:11 WARN BlockManager: Block input-0-1650907211400 replicated to only 0 peer(s) instead of 1 peers\n",
      "22/04/25 22:50:11 WARN RandomBlockReplicationPolicy: Expecting 1 replicas with only 0 peer/s.\n",
      "22/04/25 22:50:11 WARN BlockManager: Block input-0-1650907211600 replicated to only 0 peer(s) instead of 1 peers\n",
      "22/04/25 22:50:12 WARN RandomBlockReplicationPolicy: Expecting 1 replicas with only 0 peer/s.\n",
      "22/04/25 22:50:12 WARN BlockManager: Block input-0-1650907212200 replicated to only 0 peer(s) instead of 1 peers\n"
     ]
    },
    {
     "name": "stdout",
     "output_type": "stream",
     "text": [
      "None 2022-04-25 22:50:12.344916\n"
     ]
    },
    {
     "name": "stderr",
     "output_type": "stream",
     "text": [
      "22/04/25 22:50:12 WARN RandomBlockReplicationPolicy: Expecting 1 replicas with only 0 peer/s.\n",
      "22/04/25 22:50:12 WARN BlockManager: Block input-0-1650907212400 replicated to only 0 peer(s) instead of 1 peers\n",
      "22/04/25 22:50:12 WARN RandomBlockReplicationPolicy: Expecting 1 replicas with only 0 peer/s.\n",
      "22/04/25 22:50:12 WARN BlockManager: Block input-0-1650907212600 replicated to only 0 peer(s) instead of 1 peers\n",
      "22/04/25 22:50:13 WARN RandomBlockReplicationPolicy: Expecting 1 replicas with only 0 peer/s.\n",
      "22/04/25 22:50:13 WARN BlockManager: Block input-0-1650907212800 replicated to only 0 peer(s) instead of 1 peers\n",
      "22/04/25 22:50:13 WARN RandomBlockReplicationPolicy: Expecting 1 replicas with only 0 peer/s.\n",
      "22/04/25 22:50:13 WARN BlockManager: Block input-0-1650907213000 replicated to only 0 peer(s) instead of 1 peers\n",
      "22/04/25 22:50:13 WARN RandomBlockReplicationPolicy: Expecting 1 replicas with only 0 peer/s.\n",
      "22/04/25 22:50:13 WARN BlockManager: Block input-0-1650907213200 replicated to only 0 peer(s) instead of 1 peers\n"
     ]
    },
    {
     "name": "stdout",
     "output_type": "stream",
     "text": [
      "None 2022-04-25 22:50:13.507653\n"
     ]
    },
    {
     "name": "stderr",
     "output_type": "stream",
     "text": [
      "22/04/25 22:50:13 WARN RandomBlockReplicationPolicy: Expecting 1 replicas with only 0 peer/s.\n",
      "22/04/25 22:50:13 WARN BlockManager: Block input-0-1650907213600 replicated to only 0 peer(s) instead of 1 peers\n",
      "22/04/25 22:50:14 WARN RandomBlockReplicationPolicy: Expecting 1 replicas with only 0 peer/s.\n",
      "22/04/25 22:50:14 WARN BlockManager: Block input-0-1650907213800 replicated to only 0 peer(s) instead of 1 peers\n",
      "22/04/25 22:50:14 WARN RandomBlockReplicationPolicy: Expecting 1 replicas with only 0 peer/s.\n",
      "22/04/25 22:50:14 WARN BlockManager: Block input-0-1650907214000 replicated to only 0 peer(s) instead of 1 peers\n",
      "22/04/25 22:50:14 WARN RandomBlockReplicationPolicy: Expecting 1 replicas with only 0 peer/s.\n",
      "22/04/25 22:50:14 WARN BlockManager: Block input-0-1650907214200 replicated to only 0 peer(s) instead of 1 peers\n",
      "                                                                                \r"
     ]
    },
    {
     "name": "stdout",
     "output_type": "stream",
     "text": [
      "None 2022-04-25 22:50:14.649717\n"
     ]
    },
    {
     "name": "stderr",
     "output_type": "stream",
     "text": [
      "22/04/25 22:50:14 WARN RandomBlockReplicationPolicy: Expecting 1 replicas with only 0 peer/s.\n",
      "22/04/25 22:50:14 WARN BlockManager: Block input-0-1650907214600 replicated to only 0 peer(s) instead of 1 peers\n",
      "22/04/25 22:50:15 WARN RandomBlockReplicationPolicy: Expecting 1 replicas with only 0 peer/s.\n",
      "22/04/25 22:50:15 WARN BlockManager: Block input-0-1650907214800 replicated to only 0 peer(s) instead of 1 peers\n",
      "22/04/25 22:50:15 WARN RandomBlockReplicationPolicy: Expecting 1 replicas with only 0 peer/s.\n",
      "22/04/25 22:50:15 WARN BlockManager: Block input-0-1650907215000 replicated to only 0 peer(s) instead of 1 peers\n",
      "22/04/25 22:50:15 WARN RandomBlockReplicationPolicy: Expecting 1 replicas with only 0 peer/s.\n",
      "22/04/25 22:50:15 WARN BlockManager: Block input-0-1650907215400 replicated to only 0 peer(s) instead of 1 peers\n",
      "22/04/25 22:50:15 WARN RandomBlockReplicationPolicy: Expecting 1 replicas with only 0 peer/s.\n",
      "22/04/25 22:50:15 WARN BlockManager: Block input-0-1650907215600 replicated to only 0 peer(s) instead of 1 peers\n",
      "                                                                                \r"
     ]
    },
    {
     "name": "stdout",
     "output_type": "stream",
     "text": [
      "None 2022-04-25 22:50:15.964375\n"
     ]
    },
    {
     "name": "stderr",
     "output_type": "stream",
     "text": [
      "22/04/25 22:50:16 WARN RandomBlockReplicationPolicy: Expecting 1 replicas with only 0 peer/s.\n",
      "22/04/25 22:50:16 WARN BlockManager: Block input-0-1650907216000 replicated to only 0 peer(s) instead of 1 peers\n",
      "22/04/25 22:50:16 WARN RandomBlockReplicationPolicy: Expecting 1 replicas with only 0 peer/s.\n",
      "22/04/25 22:50:16 WARN BlockManager: Block input-0-1650907216200 replicated to only 0 peer(s) instead of 1 peers\n",
      "22/04/25 22:50:17 WARN RandomBlockReplicationPolicy: Expecting 1 replicas with only 0 peer/s.\n",
      "22/04/25 22:50:17 WARN BlockManager: Block input-0-1650907216800 replicated to only 0 peer(s) instead of 1 peers\n",
      "22/04/25 22:50:17 WARN RandomBlockReplicationPolicy: Expecting 1 replicas with only 0 peer/s.\n",
      "22/04/25 22:50:17 WARN BlockManager: Block input-0-1650907217000 replicated to only 0 peer(s) instead of 1 peers\n"
     ]
    },
    {
     "name": "stdout",
     "output_type": "stream",
     "text": [
      "None 2022-04-25 22:50:17.315604\n"
     ]
    },
    {
     "name": "stderr",
     "output_type": "stream",
     "text": [
      "22/04/25 22:50:17 WARN RandomBlockReplicationPolicy: Expecting 1 replicas with only 0 peer/s.\n",
      "22/04/25 22:50:17 WARN BlockManager: Block input-0-1650907217200 replicated to only 0 peer(s) instead of 1 peers\n",
      "22/04/25 22:50:17 WARN RandomBlockReplicationPolicy: Expecting 1 replicas with only 0 peer/s.\n",
      "22/04/25 22:50:17 WARN BlockManager: Block input-0-1650907217400 replicated to only 0 peer(s) instead of 1 peers\n",
      "22/04/25 22:50:17 WARN RandomBlockReplicationPolicy: Expecting 1 replicas with only 0 peer/s.\n",
      "22/04/25 22:50:17 WARN BlockManager: Block input-0-1650907217600 replicated to only 0 peer(s) instead of 1 peers\n",
      "22/04/25 22:50:18 WARN RandomBlockReplicationPolicy: Expecting 1 replicas with only 0 peer/s.\n",
      "22/04/25 22:50:18 WARN BlockManager: Block input-0-1650907218000 replicated to only 0 peer(s) instead of 1 peers\n",
      "                                                                                \r"
     ]
    },
    {
     "name": "stdout",
     "output_type": "stream",
     "text": [
      "None 2022-04-25 22:50:18.641949\n"
     ]
    },
    {
     "name": "stderr",
     "output_type": "stream",
     "text": [
      "22/04/25 22:50:19 WARN RandomBlockReplicationPolicy: Expecting 1 replicas with only 0 peer/s.\n",
      "22/04/25 22:50:19 WARN BlockManager: Block input-0-1650907219200 replicated to only 0 peer(s) instead of 1 peers\n",
      "                                                                                \r"
     ]
    },
    {
     "name": "stdout",
     "output_type": "stream",
     "text": [
      "None 2022-04-25 22:50:19.916781\n"
     ]
    },
    {
     "name": "stderr",
     "output_type": "stream",
     "text": [
      "22/04/25 22:50:20 WARN RandomBlockReplicationPolicy: Expecting 1 replicas with only 0 peer/s.\n",
      "22/04/25 22:50:20 WARN BlockManager: Block input-0-1650907219800 replicated to only 0 peer(s) instead of 1 peers\n",
      "22/04/25 22:50:20 WARN RandomBlockReplicationPolicy: Expecting 1 replicas with only 0 peer/s.\n",
      "22/04/25 22:50:20 WARN BlockManager: Block input-0-1650907220200 replicated to only 0 peer(s) instead of 1 peers\n",
      "22/04/25 22:50:20 WARN RandomBlockReplicationPolicy: Expecting 1 replicas with only 0 peer/s.\n",
      "22/04/25 22:50:20 WARN BlockManager: Block input-0-1650907220400 replicated to only 0 peer(s) instead of 1 peers\n",
      "22/04/25 22:50:20 WARN RandomBlockReplicationPolicy: Expecting 1 replicas with only 0 peer/s.\n",
      "22/04/25 22:50:20 WARN BlockManager: Block input-0-1650907220600 replicated to only 0 peer(s) instead of 1 peers\n",
      "22/04/25 22:50:21 WARN RandomBlockReplicationPolicy: Expecting 1 replicas with only 0 peer/s.\n",
      "22/04/25 22:50:21 WARN BlockManager: Block input-0-1650907220800 replicated to only 0 peer(s) instead of 1 peers\n",
      "                                                                                \r"
     ]
    },
    {
     "name": "stdout",
     "output_type": "stream",
     "text": [
      "producing: #withyou 36\n",
      "producing: #mivslsg 0\n",
      "producing: #mondaymotivation 7\n",
      "producing: #runway34thisfriday 0\n",
      "producing: #worldmalariaday 3\n",
      "None 2022-04-25 22:50:21.221927\n"
     ]
    },
    {
     "name": "stderr",
     "output_type": "stream",
     "text": [
      "22/04/25 22:50:21 WARN RandomBlockReplicationPolicy: Expecting 1 replicas with only 0 peer/s.\n",
      "22/04/25 22:50:21 WARN BlockManager: Block input-0-1650907221200 replicated to only 0 peer(s) instead of 1 peers\n",
      "22/04/25 22:50:21 WARN RandomBlockReplicationPolicy: Expecting 1 replicas with only 0 peer/s.\n",
      "22/04/25 22:50:21 WARN BlockManager: Block input-0-1650907221400 replicated to only 0 peer(s) instead of 1 peers\n",
      "22/04/25 22:50:21 WARN RandomBlockReplicationPolicy: Expecting 1 replicas with only 0 peer/s.\n",
      "22/04/25 22:50:21 WARN BlockManager: Block input-0-1650907221600 replicated to only 0 peer(s) instead of 1 peers\n",
      "22/04/25 22:50:22 WARN RandomBlockReplicationPolicy: Expecting 1 replicas with only 0 peer/s.\n",
      "22/04/25 22:50:22 WARN BlockManager: Block input-0-1650907221800 replicated to only 0 peer(s) instead of 1 peers\n",
      "22/04/25 22:50:22 WARN RandomBlockReplicationPolicy: Expecting 1 replicas with only 0 peer/s.\n",
      "22/04/25 22:50:22 WARN BlockManager: Block input-0-1650907222000 replicated to only 0 peer(s) instead of 1 peers\n",
      "22/04/25 22:50:22 WARN RandomBlockReplicationPolicy: Expecting 1 replicas with only 0 peer/s.\n",
      "22/04/25 22:50:22 WARN BlockManager: Block input-0-1650907222200 replicated to only 0 peer(s) instead of 1 peers\n"
     ]
    },
    {
     "name": "stdout",
     "output_type": "stream",
     "text": [
      "None 2022-04-25 22:50:22.317308\n"
     ]
    },
    {
     "name": "stderr",
     "output_type": "stream",
     "text": [
      "22/04/25 22:50:22 WARN RandomBlockReplicationPolicy: Expecting 1 replicas with only 0 peer/s.\n",
      "22/04/25 22:50:22 WARN BlockManager: Block input-0-1650907222400 replicated to only 0 peer(s) instead of 1 peers\n",
      "                                                                                \r"
     ]
    },
    {
     "name": "stdout",
     "output_type": "stream",
     "text": [
      "None 2022-04-25 22:50:23.286603\n"
     ]
    },
    {
     "name": "stderr",
     "output_type": "stream",
     "text": [
      "22/04/25 22:50:23 WARN RandomBlockReplicationPolicy: Expecting 1 replicas with only 0 peer/s.\n",
      "22/04/25 22:50:23 WARN BlockManager: Block input-0-1650907223200 replicated to only 0 peer(s) instead of 1 peers\n",
      "22/04/25 22:50:23 WARN RandomBlockReplicationPolicy: Expecting 1 replicas with only 0 peer/s.\n",
      "22/04/25 22:50:23 WARN BlockManager: Block input-0-1650907223400 replicated to only 0 peer(s) instead of 1 peers\n",
      "22/04/25 22:50:23 WARN RandomBlockReplicationPolicy: Expecting 1 replicas with only 0 peer/s.\n",
      "22/04/25 22:50:23 WARN BlockManager: Block input-0-1650907223600 replicated to only 0 peer(s) instead of 1 peers\n",
      "22/04/25 22:50:24 WARN RandomBlockReplicationPolicy: Expecting 1 replicas with only 0 peer/s.\n",
      "22/04/25 22:50:24 WARN BlockManager: Block input-0-1650907223800 replicated to only 0 peer(s) instead of 1 peers\n",
      "22/04/25 22:50:24 WARN RandomBlockReplicationPolicy: Expecting 1 replicas with only 0 peer/s.\n",
      "22/04/25 22:50:24 WARN BlockManager: Block input-0-1650907224000 replicated to only 0 peer(s) instead of 1 peers\n"
     ]
    },
    {
     "name": "stdout",
     "output_type": "stream",
     "text": [
      "None 2022-04-25 22:50:24.239784\n"
     ]
    },
    {
     "name": "stderr",
     "output_type": "stream",
     "text": [
      "22/04/25 22:50:24 WARN RandomBlockReplicationPolicy: Expecting 1 replicas with only 0 peer/s.\n",
      "22/04/25 22:50:24 WARN BlockManager: Block input-0-1650907224400 replicated to only 0 peer(s) instead of 1 peers\n",
      "22/04/25 22:50:24 WARN RandomBlockReplicationPolicy: Expecting 1 replicas with only 0 peer/s.\n",
      "22/04/25 22:50:24 WARN BlockManager: Block input-0-1650907224600 replicated to only 0 peer(s) instead of 1 peers\n",
      "22/04/25 22:50:25 WARN RandomBlockReplicationPolicy: Expecting 1 replicas with only 0 peer/s.\n",
      "22/04/25 22:50:25 WARN BlockManager: Block input-0-1650907224800 replicated to only 0 peer(s) instead of 1 peers\n",
      "                                                                                \r"
     ]
    },
    {
     "name": "stdout",
     "output_type": "stream",
     "text": [
      "None 2022-04-25 22:50:25.237617\n"
     ]
    },
    {
     "name": "stderr",
     "output_type": "stream",
     "text": [
      "22/04/25 22:50:25 WARN RandomBlockReplicationPolicy: Expecting 1 replicas with only 0 peer/s.\n",
      "22/04/25 22:50:25 WARN BlockManager: Block input-0-1650907225400 replicated to only 0 peer(s) instead of 1 peers\n",
      "22/04/25 22:50:25 WARN RandomBlockReplicationPolicy: Expecting 1 replicas with only 0 peer/s.\n",
      "22/04/25 22:50:25 WARN BlockManager: Block input-0-1650907225600 replicated to only 0 peer(s) instead of 1 peers\n",
      "22/04/25 22:50:26 WARN RandomBlockReplicationPolicy: Expecting 1 replicas with only 0 peer/s.\n",
      "22/04/25 22:50:26 WARN BlockManager: Block input-0-1650907226000 replicated to only 0 peer(s) instead of 1 peers\n",
      "                                                                                \r"
     ]
    },
    {
     "name": "stdout",
     "output_type": "stream",
     "text": [
      "None 2022-04-25 22:50:26.369463\n"
     ]
    },
    {
     "name": "stderr",
     "output_type": "stream",
     "text": [
      "22/04/25 22:50:26 WARN RandomBlockReplicationPolicy: Expecting 1 replicas with only 0 peer/s.\n",
      "22/04/25 22:50:26 WARN BlockManager: Block input-0-1650907226400 replicated to only 0 peer(s) instead of 1 peers\n",
      "22/04/25 22:50:26 WARN RandomBlockReplicationPolicy: Expecting 1 replicas with only 0 peer/s.\n",
      "22/04/25 22:50:26 WARN BlockManager: Block input-0-1650907226600 replicated to only 0 peer(s) instead of 1 peers\n",
      "22/04/25 22:50:27 WARN RandomBlockReplicationPolicy: Expecting 1 replicas with only 0 peer/s.\n",
      "22/04/25 22:50:27 WARN BlockManager: Block input-0-1650907227000 replicated to only 0 peer(s) instead of 1 peers\n",
      "22/04/25 22:50:27 WARN RandomBlockReplicationPolicy: Expecting 1 replicas with only 0 peer/s.\n",
      "22/04/25 22:50:27 WARN BlockManager: Block input-0-1650907227200 replicated to only 0 peer(s) instead of 1 peers\n"
     ]
    },
    {
     "name": "stdout",
     "output_type": "stream",
     "text": [
      "None 2022-04-25 22:50:27.425856\n"
     ]
    },
    {
     "name": "stderr",
     "output_type": "stream",
     "text": [
      "22/04/25 22:50:27 WARN RandomBlockReplicationPolicy: Expecting 1 replicas with only 0 peer/s.\n",
      "22/04/25 22:50:27 WARN BlockManager: Block input-0-1650907227400 replicated to only 0 peer(s) instead of 1 peers\n",
      "22/04/25 22:50:27 WARN RandomBlockReplicationPolicy: Expecting 1 replicas with only 0 peer/s.\n",
      "22/04/25 22:50:27 WARN BlockManager: Block input-0-1650907227600 replicated to only 0 peer(s) instead of 1 peers\n",
      "22/04/25 22:50:28 WARN RandomBlockReplicationPolicy: Expecting 1 replicas with only 0 peer/s.\n",
      "22/04/25 22:50:28 WARN BlockManager: Block input-0-1650907227800 replicated to only 0 peer(s) instead of 1 peers\n",
      "22/04/25 22:50:28 WARN RandomBlockReplicationPolicy: Expecting 1 replicas with only 0 peer/s.\n",
      "22/04/25 22:50:28 WARN BlockManager: Block input-0-1650907228000 replicated to only 0 peer(s) instead of 1 peers\n",
      "22/04/25 22:50:28 WARN RandomBlockReplicationPolicy: Expecting 1 replicas with only 0 peer/s.\n",
      "22/04/25 22:50:28 WARN BlockManager: Block input-0-1650907228200 replicated to only 0 peer(s) instead of 1 peers\n"
     ]
    },
    {
     "name": "stdout",
     "output_type": "stream",
     "text": [
      "None 2022-04-25 22:50:28.396859\n"
     ]
    },
    {
     "name": "stderr",
     "output_type": "stream",
     "text": [
      "22/04/25 22:50:28 WARN RandomBlockReplicationPolicy: Expecting 1 replicas with only 0 peer/s.\n",
      "22/04/25 22:50:28 WARN BlockManager: Block input-0-1650907228400 replicated to only 0 peer(s) instead of 1 peers\n",
      "22/04/25 22:50:28 WARN RandomBlockReplicationPolicy: Expecting 1 replicas with only 0 peer/s.\n",
      "22/04/25 22:50:28 WARN BlockManager: Block input-0-1650907228600 replicated to only 0 peer(s) instead of 1 peers\n",
      "22/04/25 22:50:29 WARN RandomBlockReplicationPolicy: Expecting 1 replicas with only 0 peer/s.\n",
      "22/04/25 22:50:29 WARN BlockManager: Block input-0-1650907228800 replicated to only 0 peer(s) instead of 1 peers\n",
      "22/04/25 22:50:29 WARN RandomBlockReplicationPolicy: Expecting 1 replicas with only 0 peer/s.\n",
      "22/04/25 22:50:29 WARN BlockManager: Block input-0-1650907229000 replicated to only 0 peer(s) instead of 1 peers\n",
      "                                                                                \r"
     ]
    },
    {
     "name": "stdout",
     "output_type": "stream",
     "text": [
      "None 2022-04-25 22:50:29.422512\n"
     ]
    },
    {
     "name": "stderr",
     "output_type": "stream",
     "text": [
      "22/04/25 22:50:29 WARN RandomBlockReplicationPolicy: Expecting 1 replicas with only 0 peer/s.\n",
      "22/04/25 22:50:29 WARN BlockManager: Block input-0-1650907229400 replicated to only 0 peer(s) instead of 1 peers\n",
      "22/04/25 22:50:29 WARN RandomBlockReplicationPolicy: Expecting 1 replicas with only 0 peer/s.\n",
      "22/04/25 22:50:29 WARN BlockManager: Block input-0-1650907229600 replicated to only 0 peer(s) instead of 1 peers\n",
      "22/04/25 22:50:30 WARN RandomBlockReplicationPolicy: Expecting 1 replicas with only 0 peer/s.\n",
      "22/04/25 22:50:30 WARN BlockManager: Block input-0-1650907229800 replicated to only 0 peer(s) instead of 1 peers\n",
      "22/04/25 22:50:30 WARN RandomBlockReplicationPolicy: Expecting 1 replicas with only 0 peer/s.\n",
      "22/04/25 22:50:30 WARN BlockManager: Block input-0-1650907230000 replicated to only 0 peer(s) instead of 1 peers\n",
      "                                                                                \r"
     ]
    },
    {
     "name": "stdout",
     "output_type": "stream",
     "text": [
      "None 2022-04-25 22:50:30.378032\n"
     ]
    },
    {
     "name": "stderr",
     "output_type": "stream",
     "text": [
      "22/04/25 22:50:31 WARN RandomBlockReplicationPolicy: Expecting 1 replicas with only 0 peer/s.\n",
      "22/04/25 22:50:31 WARN BlockManager: Block input-0-1650907230800 replicated to only 0 peer(s) instead of 1 peers\n",
      "22/04/25 22:50:31 WARN RandomBlockReplicationPolicy: Expecting 1 replicas with only 0 peer/s.\n",
      "22/04/25 22:50:31 WARN BlockManager: Block input-0-1650907231200 replicated to only 0 peer(s) instead of 1 peers\n"
     ]
    },
    {
     "name": "stdout",
     "output_type": "stream",
     "text": [
      "producing: #withyou 35\n",
      "producing: #mivslsg 0\n",
      "producing: #mondaymotivation 5\n",
      "producing: #runway34thisfriday 0\n",
      "producing: #worldmalariaday 1\n",
      "None 2022-04-25 22:50:31.347637\n"
     ]
    },
    {
     "name": "stderr",
     "output_type": "stream",
     "text": [
      "22/04/25 22:50:31 WARN RandomBlockReplicationPolicy: Expecting 1 replicas with only 0 peer/s.\n",
      "22/04/25 22:50:31 WARN BlockManager: Block input-0-1650907231400 replicated to only 0 peer(s) instead of 1 peers\n",
      "22/04/25 22:50:31 WARN RandomBlockReplicationPolicy: Expecting 1 replicas with only 0 peer/s.\n",
      "22/04/25 22:50:31 WARN BlockManager: Block input-0-1650907231600 replicated to only 0 peer(s) instead of 1 peers\n",
      "22/04/25 22:50:32 WARN RandomBlockReplicationPolicy: Expecting 1 replicas with only 0 peer/s.\n",
      "22/04/25 22:50:32 WARN BlockManager: Block input-0-1650907231800 replicated to only 0 peer(s) instead of 1 peers\n",
      "                                                                                \r"
     ]
    },
    {
     "name": "stdout",
     "output_type": "stream",
     "text": [
      "None 2022-04-25 22:50:32.397033\n"
     ]
    },
    {
     "name": "stderr",
     "output_type": "stream",
     "text": [
      "22/04/25 22:50:32 WARN RandomBlockReplicationPolicy: Expecting 1 replicas with only 0 peer/s.\n",
      "22/04/25 22:50:32 WARN BlockManager: Block input-0-1650907232400 replicated to only 0 peer(s) instead of 1 peers\n",
      "22/04/25 22:50:32 WARN RandomBlockReplicationPolicy: Expecting 1 replicas with only 0 peer/s.\n",
      "22/04/25 22:50:32 WARN BlockManager: Block input-0-1650907232600 replicated to only 0 peer(s) instead of 1 peers\n",
      "22/04/25 22:50:33 WARN RandomBlockReplicationPolicy: Expecting 1 replicas with only 0 peer/s.\n",
      "22/04/25 22:50:33 WARN BlockManager: Block input-0-1650907232800 replicated to only 0 peer(s) instead of 1 peers\n",
      "22/04/25 22:50:33 WARN RandomBlockReplicationPolicy: Expecting 1 replicas with only 0 peer/s.\n",
      "22/04/25 22:50:33 WARN BlockManager: Block input-0-1650907233000 replicated to only 0 peer(s) instead of 1 peers\n",
      "22/04/25 22:50:33 WARN RandomBlockReplicationPolicy: Expecting 1 replicas with only 0 peer/s.\n",
      "22/04/25 22:50:33 WARN BlockManager: Block input-0-1650907233200 replicated to only 0 peer(s) instead of 1 peers\n",
      "22/04/25 22:50:33 WARN RandomBlockReplicationPolicy: Expecting 1 replicas with only 0 peer/s.\n",
      "22/04/25 22:50:33 WARN BlockManager: Block input-0-1650907233400 replicated to only 0 peer(s) instead of 1 peers\n"
     ]
    },
    {
     "name": "stdout",
     "output_type": "stream",
     "text": [
      "None 2022-04-25 22:50:33.536871\n"
     ]
    },
    {
     "name": "stderr",
     "output_type": "stream",
     "text": [
      "22/04/25 22:50:34 WARN RandomBlockReplicationPolicy: Expecting 1 replicas with only 0 peer/s.\n",
      "22/04/25 22:50:34 WARN BlockManager: Block input-0-1650907233800 replicated to only 0 peer(s) instead of 1 peers\n",
      "22/04/25 22:50:34 WARN RandomBlockReplicationPolicy: Expecting 1 replicas with only 0 peer/s.\n",
      "22/04/25 22:50:34 WARN BlockManager: Block input-0-1650907234000 replicated to only 0 peer(s) instead of 1 peers\n",
      "22/04/25 22:50:34 WARN RandomBlockReplicationPolicy: Expecting 1 replicas with only 0 peer/s.\n",
      "22/04/25 22:50:34 WARN BlockManager: Block input-0-1650907234200 replicated to only 0 peer(s) instead of 1 peers\n",
      "                                                                                \r"
     ]
    },
    {
     "name": "stdout",
     "output_type": "stream",
     "text": [
      "None 2022-04-25 22:50:34.641485\n"
     ]
    },
    {
     "name": "stderr",
     "output_type": "stream",
     "text": [
      "22/04/25 22:50:34 WARN RandomBlockReplicationPolicy: Expecting 1 replicas with only 0 peer/s.\n",
      "22/04/25 22:50:34 WARN BlockManager: Block input-0-1650907234600 replicated to only 0 peer(s) instead of 1 peers\n",
      "22/04/25 22:50:35 WARN RandomBlockReplicationPolicy: Expecting 1 replicas with only 0 peer/s.\n",
      "22/04/25 22:50:35 WARN BlockManager: Block input-0-1650907234800 replicated to only 0 peer(s) instead of 1 peers\n",
      "22/04/25 22:50:35 WARN RandomBlockReplicationPolicy: Expecting 1 replicas with only 0 peer/s.\n",
      "22/04/25 22:50:35 WARN BlockManager: Block input-0-1650907235000 replicated to only 0 peer(s) instead of 1 peers\n",
      "22/04/25 22:50:35 WARN RandomBlockReplicationPolicy: Expecting 1 replicas with only 0 peer/s.\n",
      "22/04/25 22:50:35 WARN BlockManager: Block input-0-1650907235400 replicated to only 0 peer(s) instead of 1 peers\n"
     ]
    },
    {
     "name": "stdout",
     "output_type": "stream",
     "text": [
      "None 2022-04-25 22:50:35.693549\n"
     ]
    },
    {
     "name": "stderr",
     "output_type": "stream",
     "text": [
      "22/04/25 22:50:35 WARN RandomBlockReplicationPolicy: Expecting 1 replicas with only 0 peer/s.\n",
      "22/04/25 22:50:35 WARN BlockManager: Block input-0-1650907235600 replicated to only 0 peer(s) instead of 1 peers\n",
      "22/04/25 22:50:36 WARN RandomBlockReplicationPolicy: Expecting 1 replicas with only 0 peer/s.\n",
      "22/04/25 22:50:36 WARN BlockManager: Block input-0-1650907236400 replicated to only 0 peer(s) instead of 1 peers\n",
      "22/04/25 22:50:36 WARN RandomBlockReplicationPolicy: Expecting 1 replicas with only 0 peer/s.\n",
      "22/04/25 22:50:36 WARN BlockManager: Block input-0-1650907236600 replicated to only 0 peer(s) instead of 1 peers\n"
     ]
    },
    {
     "name": "stdout",
     "output_type": "stream",
     "text": [
      "None 2022-04-25 22:50:36.725479\n"
     ]
    },
    {
     "name": "stderr",
     "output_type": "stream",
     "text": [
      "22/04/25 22:50:37 WARN RandomBlockReplicationPolicy: Expecting 1 replicas with only 0 peer/s.\n",
      "22/04/25 22:50:37 WARN BlockManager: Block input-0-1650907236800 replicated to only 0 peer(s) instead of 1 peers\n",
      "22/04/25 22:50:37 WARN RandomBlockReplicationPolicy: Expecting 1 replicas with only 0 peer/s.\n",
      "22/04/25 22:50:37 WARN BlockManager: Block input-0-1650907237200 replicated to only 0 peer(s) instead of 1 peers\n",
      "22/04/25 22:50:37 WARN RandomBlockReplicationPolicy: Expecting 1 replicas with only 0 peer/s.\n",
      "22/04/25 22:50:37 WARN BlockManager: Block input-0-1650907237400 replicated to only 0 peer(s) instead of 1 peers\n",
      "22/04/25 22:50:37 WARN RandomBlockReplicationPolicy: Expecting 1 replicas with only 0 peer/s.\n",
      "22/04/25 22:50:37 WARN BlockManager: Block input-0-1650907237600 replicated to only 0 peer(s) instead of 1 peers\n"
     ]
    },
    {
     "name": "stdout",
     "output_type": "stream",
     "text": [
      "None 2022-04-25 22:50:37.860132\n"
     ]
    },
    {
     "name": "stderr",
     "output_type": "stream",
     "text": [
      "22/04/25 22:50:38 WARN RandomBlockReplicationPolicy: Expecting 1 replicas with only 0 peer/s.\n",
      "22/04/25 22:50:38 WARN BlockManager: Block input-0-1650907238000 replicated to only 0 peer(s) instead of 1 peers\n",
      "22/04/25 22:50:38 WARN RandomBlockReplicationPolicy: Expecting 1 replicas with only 0 peer/s.\n",
      "22/04/25 22:50:38 WARN BlockManager: Block input-0-1650907238400 replicated to only 0 peer(s) instead of 1 peers\n",
      "                                                                                \r"
     ]
    },
    {
     "name": "stdout",
     "output_type": "stream",
     "text": [
      "None 2022-04-25 22:50:38.897195\n"
     ]
    },
    {
     "name": "stderr",
     "output_type": "stream",
     "text": [
      "22/04/25 22:50:39 WARN RandomBlockReplicationPolicy: Expecting 1 replicas with only 0 peer/s.\n",
      "22/04/25 22:50:39 WARN BlockManager: Block input-0-1650907239000 replicated to only 0 peer(s) instead of 1 peers\n",
      "22/04/25 22:50:39 WARN RandomBlockReplicationPolicy: Expecting 1 replicas with only 0 peer/s.\n",
      "22/04/25 22:50:39 WARN BlockManager: Block input-0-1650907239200 replicated to only 0 peer(s) instead of 1 peers\n",
      "22/04/25 22:50:39 WARN RandomBlockReplicationPolicy: Expecting 1 replicas with only 0 peer/s.\n",
      "22/04/25 22:50:39 WARN BlockManager: Block input-0-1650907239600 replicated to only 0 peer(s) instead of 1 peers\n",
      "                                                                                \r"
     ]
    },
    {
     "name": "stdout",
     "output_type": "stream",
     "text": [
      "None 2022-04-25 22:50:40.086102\n"
     ]
    },
    {
     "name": "stderr",
     "output_type": "stream",
     "text": [
      "22/04/25 22:50:40 WARN RandomBlockReplicationPolicy: Expecting 1 replicas with only 0 peer/s.\n",
      "22/04/25 22:50:40 WARN BlockManager: Block input-0-1650907240200 replicated to only 0 peer(s) instead of 1 peers\n",
      "22/04/25 22:50:40 WARN RandomBlockReplicationPolicy: Expecting 1 replicas with only 0 peer/s.\n",
      "22/04/25 22:50:40 WARN BlockManager: Block input-0-1650907240600 replicated to only 0 peer(s) instead of 1 peers\n",
      "22/04/25 22:50:41 WARN RandomBlockReplicationPolicy: Expecting 1 replicas with only 0 peer/s.\n",
      "22/04/25 22:50:41 WARN BlockManager: Block input-0-1650907241000 replicated to only 0 peer(s) instead of 1 peers\n"
     ]
    },
    {
     "name": "stdout",
     "output_type": "stream",
     "text": [
      "None 2022-04-25 22:50:41.184077\n"
     ]
    },
    {
     "name": "stderr",
     "output_type": "stream",
     "text": [
      "22/04/25 22:50:41 WARN RandomBlockReplicationPolicy: Expecting 1 replicas with only 0 peer/s.\n",
      "22/04/25 22:50:41 WARN BlockManager: Block input-0-1650907241400 replicated to only 0 peer(s) instead of 1 peers\n",
      "22/04/25 22:50:41 WARN RandomBlockReplicationPolicy: Expecting 1 replicas with only 0 peer/s.\n",
      "22/04/25 22:50:41 WARN BlockManager: Block input-0-1650907241600 replicated to only 0 peer(s) instead of 1 peers\n",
      "22/04/25 22:50:42 WARN RandomBlockReplicationPolicy: Expecting 1 replicas with only 0 peer/s.\n",
      "22/04/25 22:50:42 WARN BlockManager: Block input-0-1650907241800 replicated to only 0 peer(s) instead of 1 peers\n",
      "22/04/25 22:50:42 WARN RandomBlockReplicationPolicy: Expecting 1 replicas with only 0 peer/s.\n",
      "22/04/25 22:50:42 WARN BlockManager: Block input-0-1650907242000 replicated to only 0 peer(s) instead of 1 peers\n",
      "                                                                                \r"
     ]
    },
    {
     "name": "stdout",
     "output_type": "stream",
     "text": [
      "producing: #withyou 41\n",
      "producing: #mivslsg 0\n",
      "producing: #mondaymotivation 7\n",
      "producing: #runway34thisfriday 0\n",
      "producing: #worldmalariaday 1\n",
      "None 2022-04-25 22:50:42.484151\n"
     ]
    },
    {
     "name": "stderr",
     "output_type": "stream",
     "text": [
      "22/04/25 22:50:42 WARN RandomBlockReplicationPolicy: Expecting 1 replicas with only 0 peer/s.\n",
      "22/04/25 22:50:42 WARN BlockManager: Block input-0-1650907242200 replicated to only 0 peer(s) instead of 1 peers\n",
      "22/04/25 22:50:42 WARN RandomBlockReplicationPolicy: Expecting 1 replicas with only 0 peer/s.\n",
      "22/04/25 22:50:42 WARN BlockManager: Block input-0-1650907242400 replicated to only 0 peer(s) instead of 1 peers\n",
      "22/04/25 22:50:42 WARN RandomBlockReplicationPolicy: Expecting 1 replicas with only 0 peer/s.\n",
      "22/04/25 22:50:42 WARN BlockManager: Block input-0-1650907242600 replicated to only 0 peer(s) instead of 1 peers\n",
      "22/04/25 22:50:43 WARN RandomBlockReplicationPolicy: Expecting 1 replicas with only 0 peer/s.\n",
      "22/04/25 22:50:43 WARN BlockManager: Block input-0-1650907243000 replicated to only 0 peer(s) instead of 1 peers\n",
      "22/04/25 22:50:43 WARN RandomBlockReplicationPolicy: Expecting 1 replicas with only 0 peer/s.\n",
      "22/04/25 22:50:43 WARN BlockManager: Block input-0-1650907243200 replicated to only 0 peer(s) instead of 1 peers\n",
      "                                                                                \r"
     ]
    },
    {
     "name": "stdout",
     "output_type": "stream",
     "text": [
      "None 2022-04-25 22:50:43.515969\n"
     ]
    },
    {
     "name": "stderr",
     "output_type": "stream",
     "text": [
      "22/04/25 22:50:43 WARN RandomBlockReplicationPolicy: Expecting 1 replicas with only 0 peer/s.\n",
      "22/04/25 22:50:43 WARN BlockManager: Block input-0-1650907243400 replicated to only 0 peer(s) instead of 1 peers\n",
      "22/04/25 22:50:44 WARN RandomBlockReplicationPolicy: Expecting 1 replicas with only 0 peer/s.\n",
      "22/04/25 22:50:44 WARN BlockManager: Block input-0-1650907243800 replicated to only 0 peer(s) instead of 1 peers\n",
      "22/04/25 22:50:44 WARN RandomBlockReplicationPolicy: Expecting 1 replicas with only 0 peer/s.\n",
      "22/04/25 22:50:44 WARN BlockManager: Block input-0-1650907244000 replicated to only 0 peer(s) instead of 1 peers\n",
      "22/04/25 22:50:44 WARN RandomBlockReplicationPolicy: Expecting 1 replicas with only 0 peer/s.\n",
      "22/04/25 22:50:44 WARN BlockManager: Block input-0-1650907244200 replicated to only 0 peer(s) instead of 1 peers\n",
      "                                                                                \r"
     ]
    },
    {
     "name": "stdout",
     "output_type": "stream",
     "text": [
      "None 2022-04-25 22:50:44.520282\n"
     ]
    },
    {
     "name": "stderr",
     "output_type": "stream",
     "text": [
      "22/04/25 22:50:44 WARN RandomBlockReplicationPolicy: Expecting 1 replicas with only 0 peer/s.\n",
      "22/04/25 22:50:44 WARN BlockManager: Block input-0-1650907244400 replicated to only 0 peer(s) instead of 1 peers\n",
      "22/04/25 22:50:44 WARN RandomBlockReplicationPolicy: Expecting 1 replicas with only 0 peer/s.\n",
      "22/04/25 22:50:44 WARN BlockManager: Block input-0-1650907244600 replicated to only 0 peer(s) instead of 1 peers\n",
      "22/04/25 22:50:45 WARN RandomBlockReplicationPolicy: Expecting 1 replicas with only 0 peer/s.\n",
      "22/04/25 22:50:45 WARN BlockManager: Block input-0-1650907244800 replicated to only 0 peer(s) instead of 1 peers\n",
      "22/04/25 22:50:45 WARN RandomBlockReplicationPolicy: Expecting 1 replicas with only 0 peer/s.\n",
      "22/04/25 22:50:45 WARN BlockManager: Block input-0-1650907245000 replicated to only 0 peer(s) instead of 1 peers\n",
      "                                                                                \r"
     ]
    },
    {
     "name": "stdout",
     "output_type": "stream",
     "text": [
      "None 2022-04-25 22:50:45.559514\n"
     ]
    },
    {
     "name": "stderr",
     "output_type": "stream",
     "text": [
      "22/04/25 22:50:45 WARN RandomBlockReplicationPolicy: Expecting 1 replicas with only 0 peer/s.\n",
      "22/04/25 22:50:45 WARN BlockManager: Block input-0-1650907245400 replicated to only 0 peer(s) instead of 1 peers\n",
      "22/04/25 22:50:45 WARN RandomBlockReplicationPolicy: Expecting 1 replicas with only 0 peer/s.\n",
      "22/04/25 22:50:45 WARN BlockManager: Block input-0-1650907245600 replicated to only 0 peer(s) instead of 1 peers\n",
      "22/04/25 22:50:46 WARN RandomBlockReplicationPolicy: Expecting 1 replicas with only 0 peer/s.\n",
      "22/04/25 22:50:46 WARN BlockManager: Block input-0-1650907246000 replicated to only 0 peer(s) instead of 1 peers\n",
      "22/04/25 22:50:46 WARN RandomBlockReplicationPolicy: Expecting 1 replicas with only 0 peer/s.\n",
      "22/04/25 22:50:46 WARN BlockManager: Block input-0-1650907246200 replicated to only 0 peer(s) instead of 1 peers\n"
     ]
    },
    {
     "name": "stdout",
     "output_type": "stream",
     "text": [
      "None 2022-04-25 22:50:46.489431\n"
     ]
    },
    {
     "name": "stderr",
     "output_type": "stream",
     "text": [
      "22/04/25 22:50:47 WARN RandomBlockReplicationPolicy: Expecting 1 replicas with only 0 peer/s.\n",
      "22/04/25 22:50:47 WARN BlockManager: Block input-0-1650907246800 replicated to only 0 peer(s) instead of 1 peers\n",
      "22/04/25 22:50:47 WARN RandomBlockReplicationPolicy: Expecting 1 replicas with only 0 peer/s.\n",
      "22/04/25 22:50:47 WARN BlockManager: Block input-0-1650907247200 replicated to only 0 peer(s) instead of 1 peers\n"
     ]
    },
    {
     "name": "stdout",
     "output_type": "stream",
     "text": [
      "None 2022-04-25 22:50:47.371076\n"
     ]
    },
    {
     "name": "stderr",
     "output_type": "stream",
     "text": [
      "22/04/25 22:50:47 WARN RandomBlockReplicationPolicy: Expecting 1 replicas with only 0 peer/s.\n",
      "22/04/25 22:50:47 WARN BlockManager: Block input-0-1650907247600 replicated to only 0 peer(s) instead of 1 peers\n",
      "22/04/25 22:50:48 WARN RandomBlockReplicationPolicy: Expecting 1 replicas with only 0 peer/s.\n",
      "22/04/25 22:50:48 WARN BlockManager: Block input-0-1650907247800 replicated to only 0 peer(s) instead of 1 peers\n",
      "                                                                                \r"
     ]
    },
    {
     "name": "stdout",
     "output_type": "stream",
     "text": [
      "None 2022-04-25 22:50:48.363587\n"
     ]
    },
    {
     "name": "stderr",
     "output_type": "stream",
     "text": [
      "22/04/25 22:50:48 WARN RandomBlockReplicationPolicy: Expecting 1 replicas with only 0 peer/s.\n",
      "22/04/25 22:50:48 WARN BlockManager: Block input-0-1650907248200 replicated to only 0 peer(s) instead of 1 peers\n",
      "22/04/25 22:50:48 WARN RandomBlockReplicationPolicy: Expecting 1 replicas with only 0 peer/s.\n",
      "22/04/25 22:50:48 WARN BlockManager: Block input-0-1650907248400 replicated to only 0 peer(s) instead of 1 peers\n",
      "22/04/25 22:50:49 WARN RandomBlockReplicationPolicy: Expecting 1 replicas with only 0 peer/s.\n",
      "22/04/25 22:50:49 WARN BlockManager: Block input-0-1650907248800 replicated to only 0 peer(s) instead of 1 peers\n",
      "22/04/25 22:50:49 WARN RandomBlockReplicationPolicy: Expecting 1 replicas with only 0 peer/s.\n",
      "22/04/25 22:50:49 WARN BlockManager: Block input-0-1650907249000 replicated to only 0 peer(s) instead of 1 peers\n",
      "22/04/25 22:50:49 WARN RandomBlockReplicationPolicy: Expecting 1 replicas with only 0 peer/s.\n",
      "22/04/25 22:50:49 WARN BlockManager: Block input-0-1650907249200 replicated to only 0 peer(s) instead of 1 peers\n"
     ]
    },
    {
     "name": "stdout",
     "output_type": "stream",
     "text": [
      "None 2022-04-25 22:50:49.340883\n"
     ]
    },
    {
     "name": "stderr",
     "output_type": "stream",
     "text": [
      "22/04/25 22:50:49 WARN RandomBlockReplicationPolicy: Expecting 1 replicas with only 0 peer/s.\n",
      "22/04/25 22:50:49 WARN BlockManager: Block input-0-1650907249400 replicated to only 0 peer(s) instead of 1 peers\n",
      "22/04/25 22:50:49 WARN RandomBlockReplicationPolicy: Expecting 1 replicas with only 0 peer/s.\n",
      "22/04/25 22:50:49 WARN BlockManager: Block input-0-1650907249600 replicated to only 0 peer(s) instead of 1 peers\n",
      "22/04/25 22:50:50 WARN RandomBlockReplicationPolicy: Expecting 1 replicas with only 0 peer/s.\n",
      "22/04/25 22:50:50 WARN BlockManager: Block input-0-1650907249800 replicated to only 0 peer(s) instead of 1 peers\n",
      "22/04/25 22:50:50 WARN RandomBlockReplicationPolicy: Expecting 1 replicas with only 0 peer/s.\n",
      "22/04/25 22:50:50 WARN BlockManager: Block input-0-1650907250000 replicated to only 0 peer(s) instead of 1 peers\n",
      "22/04/25 22:50:50 WARN RandomBlockReplicationPolicy: Expecting 1 replicas with only 0 peer/s.\n",
      "22/04/25 22:50:50 WARN BlockManager: Block input-0-1650907250200 replicated to only 0 peer(s) instead of 1 peers\n"
     ]
    },
    {
     "name": "stdout",
     "output_type": "stream",
     "text": [
      "None 2022-04-25 22:50:50.533869\n"
     ]
    },
    {
     "name": "stderr",
     "output_type": "stream",
     "text": [
      "22/04/25 22:50:50 WARN RandomBlockReplicationPolicy: Expecting 1 replicas with only 0 peer/s.\n",
      "22/04/25 22:50:50 WARN BlockManager: Block input-0-1650907250400 replicated to only 0 peer(s) instead of 1 peers\n",
      "22/04/25 22:50:50 WARN RandomBlockReplicationPolicy: Expecting 1 replicas with only 0 peer/s.\n",
      "22/04/25 22:50:50 WARN BlockManager: Block input-0-1650907250600 replicated to only 0 peer(s) instead of 1 peers\n",
      "22/04/25 22:50:51 WARN RandomBlockReplicationPolicy: Expecting 1 replicas with only 0 peer/s.\n",
      "22/04/25 22:50:51 WARN BlockManager: Block input-0-1650907251000 replicated to only 0 peer(s) instead of 1 peers\n",
      "                                                                                \r"
     ]
    },
    {
     "name": "stdout",
     "output_type": "stream",
     "text": [
      "None 2022-04-25 22:50:51.507170\n"
     ]
    },
    {
     "name": "stderr",
     "output_type": "stream",
     "text": [
      "22/04/25 22:50:51 WARN RandomBlockReplicationPolicy: Expecting 1 replicas with only 0 peer/s.\n",
      "22/04/25 22:50:51 WARN BlockManager: Block input-0-1650907251600 replicated to only 0 peer(s) instead of 1 peers\n",
      "22/04/25 22:50:52 WARN RandomBlockReplicationPolicy: Expecting 1 replicas with only 0 peer/s.\n",
      "22/04/25 22:50:52 WARN BlockManager: Block input-0-1650907251800 replicated to only 0 peer(s) instead of 1 peers\n"
     ]
    }
   ],
   "source": [
    "count = 0\n",
    "x = []\n",
    "while count < 6:\n",
    "    d = {}\n",
    "    time.sleep( 10 )\n",
    "    tweets = sqlContext.sql( 'select Hashtag, Count from tweets' )\n",
    "    df = tweets.toPandas()\n",
    "    d1 = df.set_index('Hashtag').T.to_dict('list')\n",
    "    for i in hash_values:\n",
    "        if i not in d1:\n",
    "            d[i] = 0\n",
    "        else:\n",
    "            d[i] = d1[i][0]\n",
    "#     print(d)\n",
    "#     send_to_kafka(d)\n",
    "    count = count + 1\n",
    "    x.append(d)"
   ]
  },
  {
   "cell_type": "code",
   "execution_count": null,
   "id": "ea8781a7",
   "metadata": {},
   "outputs": [],
   "source": [
    "ssc.stop()"
   ]
  },
  {
   "cell_type": "code",
   "execution_count": null,
   "id": "7d2e7252",
   "metadata": {},
   "outputs": [],
   "source": [
    "x"
   ]
  },
  {
   "cell_type": "code",
   "execution_count": null,
   "id": "a1762f9d",
   "metadata": {},
   "outputs": [],
   "source": [
    "data"
   ]
  },
  {
   "cell_type": "code",
   "execution_count": null,
   "id": "2f51f07d",
   "metadata": {},
   "outputs": [],
   "source": [
    "x[5]"
   ]
  },
  {
   "cell_type": "code",
   "execution_count": null,
   "id": "3c477306",
   "metadata": {},
   "outputs": [],
   "source": []
  }
 ],
 "metadata": {
  "kernelspec": {
   "display_name": "Python 3 (ipykernel)",
   "language": "python",
   "name": "python3"
  },
  "language_info": {
   "codemirror_mode": {
    "name": "ipython",
    "version": 3
   },
   "file_extension": ".py",
   "mimetype": "text/x-python",
   "name": "python",
   "nbconvert_exporter": "python",
   "pygments_lexer": "ipython3",
   "version": "3.9.7"
  }
 },
 "nbformat": 4,
 "nbformat_minor": 5
}
